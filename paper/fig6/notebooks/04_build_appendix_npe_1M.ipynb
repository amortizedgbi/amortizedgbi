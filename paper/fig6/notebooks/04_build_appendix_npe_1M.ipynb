{
 "cells": [
  {
   "cell_type": "code",
   "execution_count": 1,
   "id": "6f6e0bb3",
   "metadata": {},
   "outputs": [],
   "source": [
    "%load_ext autoreload\n",
    "%autoreload 2"
   ]
  },
  {
   "cell_type": "code",
   "execution_count": 2,
   "id": "65184302",
   "metadata": {},
   "outputs": [
    {
     "name": "stderr",
     "output_type": "stream",
     "text": [
      "/home/anonymizeduser/anaconda3/envs/gbi/lib/python3.8/site-packages/tqdm/auto.py:22: TqdmWarning: IProgress not found. Please update jupyter and ipywidgets. See https://ipywidgets.readthedocs.io/en/stable/user_install.html\n",
      "  from .autonotebook import tqdm as notebook_tqdm\n"
     ]
    }
   ],
   "source": [
    "import time\n",
    "import pickle\n",
    "import matplotlib as mpl\n",
    "import matplotlib.pyplot as plt\n",
    "import numpy as np\n",
    "import torch\n",
    "from torch import float32, zeros, ones, eye, as_tensor, tensor\n",
    "\n",
    "from sbi.analysis import pairplot, marginal_plot\n",
    "\n",
    "from gbi.GBI import GBInference\n",
    "from gbi.hh.train_gbi import MaeDistZ\n",
    "import gbi.hh.utils as utils\n",
    "from gbi.hh.HodgkinHuxley import HodgkinHuxley\n",
    "from gbi.hh.HodgkinHuxleyStatsMoments import HodgkinHuxleyStatsMoments"
   ]
  },
  {
   "cell_type": "code",
   "execution_count": 3,
   "id": "ba91316d",
   "metadata": {},
   "outputs": [],
   "source": [
    "plt.style.use('../../../.matplotlibrc')"
   ]
  },
  {
   "cell_type": "markdown",
   "id": "ce700bb8",
   "metadata": {},
   "source": [
    "### Load saved data with 100k simulations"
   ]
  },
  {
   "cell_type": "code",
   "execution_count": 4,
   "id": "d3904d7b",
   "metadata": {},
   "outputs": [],
   "source": [
    "path = \"/home/anonymizeduser/Documents/neuralgbi/results/hh_allen\""
   ]
  },
  {
   "cell_type": "code",
   "execution_count": 5,
   "id": "702b2cf0",
   "metadata": {},
   "outputs": [],
   "source": [
    "with open(f\"{path}/gbi_pred_m/0/01_prior_theta.pkl\", \"rb\") as handle:\n",
    "    prior_theta = pickle.load(handle)\n",
    "with open(f\"{path}/gbi_pred_m/0/01_prior_pred.pkl\", \"rb\") as handle:\n",
    "    prior_x = pickle.load(handle)\n",
    "\n",
    "with open(f\"{path}/gbi_inference/inference_gbi.pkl\", \"rb\") as handle:\n",
    "    inference_gbi = pickle.load(handle)\n",
    "\n",
    "with open(f\"{path}/gbi_pred_m/0/02_posterior_samples_gbi_allen.pkl\", \"rb\") as handle:\n",
    "    gbi_posterior_theta = pickle.load(handle)\n",
    "with open(f\"{path}/gbi_pred_m/0/03_posterior_predictive_stats_gbi.pkl\", \"rb\") as handle:\n",
    "    gbi_posterior_x = pickle.load(handle)\n",
    "with open(f\"{path}/gbi_pred_m/0/03_posterior_predictive_traces_gbi.pkl\", \"rb\") as handle:\n",
    "    gbi_posterior_traces = pickle.load(handle)\n",
    "\n",
    "with open(f\"{path}/npe_pred_m/3_allen_1000000/04_npe_theta.pkl\", \"rb\") as handle:\n",
    "    npe_posterior_theta = pickle.load(handle)\n",
    "with open(f\"{path}/npe_pred_m/3_allen_1000000/04_npe_stats.pkl\", \"rb\") as handle:\n",
    "    npe_posterior_x = pickle.load(handle)\n",
    "with open(f\"{path}/npe_pred_m/3_allen_1000000/04_npe_traces.pkl\", \"rb\") as handle:\n",
    "    npe_posterior_traces = pickle.load(handle)"
   ]
  },
  {
   "cell_type": "markdown",
   "id": "8defa659",
   "metadata": {},
   "source": [
    "### Generate simulator, prior, x_o"
   ]
  },
  {
   "cell_type": "code",
   "execution_count": 6,
   "id": "9ba29fef",
   "metadata": {},
   "outputs": [],
   "source": [
    "seed = 1\n",
    "n_xcorr = 0\n",
    "n_mom = 4\n",
    "n_summary = 7"
   ]
  },
  {
   "cell_type": "code",
   "execution_count": 7,
   "id": "190c7dd7",
   "metadata": {},
   "outputs": [],
   "source": [
    "true_params, labels_params = utils.obs_params(reduced_model=False)\n",
    "\n",
    "list_cells_AllenDB = [518290966, 57, 0.0234 / 126]\n",
    "\n",
    "ephys_cell = list_cells_AllenDB[0]\n",
    "sweep_number = list_cells_AllenDB[1]\n",
    "A_soma = list_cells_AllenDB[2]\n",
    "junction_potential = -14\n",
    "\n",
    "obs = utils.allen_obs_data(\n",
    "    ephys_cell=ephys_cell, sweep_number=sweep_number, A_soma=A_soma\n",
    ")\n",
    "obs[\"data\"] = obs[\"data\"] + junction_potential\n",
    "I = obs[\"I\"]\n",
    "dt = obs[\"dt\"]\n",
    "t_on = obs[\"t_on\"]\n",
    "t_off = obs[\"t_off\"]\n",
    "\n",
    "sim = HodgkinHuxley(\n",
    "    I, dt, V0=obs[\"data\"][0], reduced_model=False, cython=True, prior_log=False\n",
    ")\n",
    "stats = HodgkinHuxleyStatsMoments(\n",
    "    t_on=t_on, t_off=t_off, n_xcorr=n_xcorr, n_mom=n_mom, n_summary=n_summary\n",
    ")"
   ]
  },
  {
   "cell_type": "code",
   "execution_count": 8,
   "id": "5ff09081",
   "metadata": {},
   "outputs": [],
   "source": [
    "obs_stats_ls, all_obs = utils.load_all_allen()\n",
    "x_target_vals = torch.as_tensor(np.asarray(obs_stats_ls), dtype=torch.float32)"
   ]
  },
  {
   "cell_type": "code",
   "execution_count": 9,
   "id": "1ab54a1f",
   "metadata": {},
   "outputs": [],
   "source": [
    "prior = utils.prior(\n",
    "    true_params=true_params,\n",
    "    prior_uniform=True,\n",
    "    prior_extent=True,\n",
    "    prior_log=False,\n",
    "    seed=0,\n",
    ")\n",
    "limits = torch.stack(\n",
    "    [\n",
    "        prior.support.base_constraint.lower_bound,\n",
    "        prior.support.base_constraint.upper_bound,\n",
    "    ]\n",
    ").T\n",
    "time_vec_obs = np.linspace(np.min(sim.t), np.max(sim.t), len(all_obs[0][\"data\"]))"
   ]
  },
  {
   "cell_type": "markdown",
   "id": "fdaadbc2",
   "metadata": {},
   "source": [
    "### Colors"
   ]
  },
  {
   "cell_type": "code",
   "execution_count": 10,
   "id": "b7e5f24c",
   "metadata": {},
   "outputs": [],
   "source": [
    "col_xo = \"k\"\n",
    "col_npe = \"C2\"\n",
    "col_gbi = \"C1\"\n",
    "col_gbi1 = \"#a6bddb\"\n",
    "col_gbi2 = \"#3690c0\"\n",
    "col_gbi3 = \"#045a8d\""
   ]
  },
  {
   "cell_type": "markdown",
   "id": "49605293",
   "metadata": {},
   "source": [
    "### Panel A"
   ]
  },
  {
   "cell_type": "code",
   "execution_count": 11,
   "id": "d849b2e2",
   "metadata": {},
   "outputs": [
    {
     "data": {
      "image/png": "[encoded data removed]",
      "text/plain": [
       "<Figure size 240x50 with 3 Axes>"
      ]
     },
     "metadata": {},
     "output_type": "display_data"
    }
   ],
   "source": [
    "with mpl.rc_context(fname=\"../../../.matplotlibrc\"):\n",
    "    fig, ax = plt.subplots(1, 3, figsize=(2.4, 0.5))\n",
    "        \n",
    "    for i in range(3):\n",
    "        xo  = all_obs[i]\n",
    "        _ = ax[i].plot(time_vec_obs, xo[\"data\"], c=col_xo)\n",
    "\n",
    "        _ = ax[i].set_xlabel(\"\")\n",
    "        _ = ax[i].set_ylabel(\"\")\n",
    "        _ = ax[i].set_ylim([-100, 60])\n",
    "        _ = ax[i].spines[\"left\"].set_visible(False)\n",
    "        _ = ax[i].spines[\"bottom\"].set_visible(False)\n",
    "        _ = ax[i].set_xticks([])\n",
    "        _ = ax[i].set_yticks([])\n",
    "    plt.savefig(\"../svg/panel_a_appendix5.svg\")\n",
    "    plt.show()"
   ]
  },
  {
   "cell_type": "markdown",
   "id": "95e14e44",
   "metadata": {},
   "source": [
    "### Panel B"
   ]
  },
  {
   "cell_type": "code",
   "execution_count": 12,
   "id": "1cf7d5ca",
   "metadata": {},
   "outputs": [],
   "source": [
    "cols = [\n",
    "    \"#a6cee3\",\n",
    "    \"#1f78b4\",\n",
    "    \"#b2df8a\",\n",
    "    \"#33a02c\",\n",
    "    \"#fb9a99\",\n",
    "    \"#e31a1c\",\n",
    "    \"#fdbf6f\",\n",
    "    \"#ff7f00\",\n",
    "    \"#cab2d6\",\n",
    "    \"#6a3d9a\",\n",
    "]"
   ]
  },
  {
   "cell_type": "markdown",
   "id": "d8753d50",
   "metadata": {},
   "source": [
    "### Panel C"
   ]
  },
  {
   "cell_type": "code",
   "execution_count": 13,
   "id": "4bcda620",
   "metadata": {},
   "outputs": [],
   "source": [
    "labels_plot = [r\"$g_{Na}$\", r\"$g_K$\", r\"$g_{\\mathrm{leak}}$\", r\"$g_M$\", r\"$t_{max}$\", r\"$-V_T$\", r\"$noise$\", r\"$-E_{\\mathrm{leak}}$\"]"
   ]
  },
  {
   "cell_type": "code",
   "execution_count": 14,
   "id": "b7f03210",
   "metadata": {},
   "outputs": [],
   "source": [
    "from scipy.ndimage import gaussian_filter"
   ]
  },
  {
   "cell_type": "code",
   "execution_count": 15,
   "id": "4ebcf5c9",
   "metadata": {},
   "outputs": [],
   "source": [
    "def gen_subplot_data(data, limits, counter):\n",
    "    y_vals, x_vals = np.histogram(data[0][:, counter].numpy(), bins=30, range=limits[counter].numpy())\n",
    "    y_vals = gaussian_filter(y_vals, 3.0)  # gaussian_kde(y_vals, bw_method=\"scott\")(np.linspace(limits[counter, 0], limits[counter, 1], 30))\n",
    "    return x_vals[:-1], y_vals"
   ]
  },
  {
   "cell_type": "code",
   "execution_count": 16,
   "id": "fe6e25b7",
   "metadata": {},
   "outputs": [
    {
     "data": {
      "image/png": "[encoded data removed]",
      "text/plain": [
       "<Figure size 140x280 with 8 Axes>"
      ]
     },
     "metadata": {},
     "output_type": "display_data"
    }
   ],
   "source": [
    "with mpl.rc_context(fname=\"../../../.matplotlibrc\"):\n",
    "    fig, ax = plt.subplots(4, 2, figsize=(1.4, 2.8))\n",
    "    counter = 0\n",
    "    for a in range(2):\n",
    "        for b in range(4):\n",
    "            ax[b, a].plot(*gen_subplot_data(npe_posterior_theta, limits, counter), c=col_npe)\n",
    "            ax[b, a].plot(*gen_subplot_data(gbi_posterior_theta[\"beta_25\"], limits, counter), c=col_gbi1)\n",
    "            ax[b, a].plot(*gen_subplot_data(gbi_posterior_theta[\"beta_50\"], limits, counter), c=col_gbi2)\n",
    "            ax[b, a].plot(*gen_subplot_data(gbi_posterior_theta[\"beta_100\"], limits, counter), c=col_gbi3)\n",
    "            ax[b, a].set_xlim(limits[counter])\n",
    "            ax[b, a].set_xticks(limits[counter])\n",
    "            ax[b, a].set_xlabel(labels_plot[counter], labelpad=-4)\n",
    "            ax[b, a].set_yticks([])\n",
    "            ax[b, a].set_ylim(bottom=0)\n",
    "            counter += 1\n",
    "    plt.subplots_adjust(hspace=0.7, wspace=0.4)\n",
    "    plt.savefig(\"../svg/panel_c_appendix5.svg\")"
   ]
  },
  {
   "cell_type": "markdown",
   "id": "0d24f987",
   "metadata": {},
   "source": [
    "### Panel D"
   ]
  },
  {
   "cell_type": "code",
   "execution_count": 18,
   "id": "6ba4d345",
   "metadata": {},
   "outputs": [
    {
     "data": {
      "image/png": "[encoded data removed]",
      "text/plain": [
       "<Figure size 240x200 with 12 Axes>"
      ]
     },
     "metadata": {},
     "output_type": "display_data"
    }
   ],
   "source": [
    "with mpl.rc_context(fname=\"../../../.matplotlibrc\"):\n",
    "    fig, ax = plt.subplots(4, 3, figsize=(2.4, 2.0))\n",
    "        \n",
    "    for sample_id in range(4):\n",
    "        for i in range(3):\n",
    "            predictive = npe_posterior_traces[i][sample_id]\n",
    "            _ = ax[sample_id, i].plot(sim.t, predictive[\"data\"], c=col_npe, alpha=0.9)\n",
    "\n",
    "            _ = ax[sample_id, i].set_xlabel(\"\")\n",
    "            _ = ax[sample_id, i].set_ylabel(\"\")\n",
    "            _ = ax[sample_id, i].set_ylim([-100, 60])\n",
    "            _ = ax[sample_id, i].spines[\"left\"].set_visible(False)\n",
    "            _ = ax[sample_id, i].spines[\"bottom\"].set_visible(False)\n",
    "            _ = ax[sample_id, i].set_xticks([])\n",
    "            _ = ax[sample_id, i].set_yticks([])\n",
    "    plt.savefig(\"../svg/panel_d2_appendix5.svg\")\n",
    "    plt.show()"
   ]
  },
  {
   "cell_type": "markdown",
   "id": "f62dd2ab",
   "metadata": {},
   "source": [
    "### Panel E"
   ]
  },
  {
   "cell_type": "code",
   "execution_count": 19,
   "id": "e264b718",
   "metadata": {},
   "outputs": [],
   "source": [
    "all_gbi_distances = []\n",
    "for key in gbi_posterior_x.keys():\n",
    "    pred_stats = gbi_posterior_x[key]\n",
    "    gbi_av_dists = []\n",
    "    for predictives, xo in zip(pred_stats, obs_stats_ls):\n",
    "        dists = inference_gbi.distance_func(predictives.unsqueeze(1), xo)\n",
    "        gbi_av_dists.append(torch.mean(dists))\n",
    "    all_gbi_distances.append(gbi_av_dists)"
   ]
  },
  {
   "cell_type": "code",
   "execution_count": 20,
   "id": "23988c42",
   "metadata": {},
   "outputs": [],
   "source": [
    "npe_av_dists = []\n",
    "for predictives, xo in zip(npe_posterior_x, obs_stats_ls):\n",
    "    dists = inference_gbi.distance_func(predictives.unsqueeze(1), xo)\n",
    "    npe_av_dists.append(torch.mean(dists))"
   ]
  },
  {
   "cell_type": "code",
   "execution_count": 21,
   "id": "c69a16d7",
   "metadata": {},
   "outputs": [
    {
     "data": {
      "image/png": "[encoded data removed]",
      "text/plain": [
       "<Figure size 90x90 with 1 Axes>"
      ]
     },
     "metadata": {},
     "output_type": "display_data"
    }
   ],
   "source": [
    "with mpl.rc_context(fname=\"../../../.matplotlibrc\"):\n",
    "    fig, ax = plt.subplots(1, 1, figsize=(0.9, 0.9))\n",
    "    _ = ax.errorbar([1, 2, 3], [np.mean(dist) for dist in all_gbi_distances], yerr=[np.std(dist) for dist in all_gbi_distances], fmt='--s', color=col_gbi, label=\"GBI\", lw=1, alpha=0.7)\n",
    "\n",
    "    ax.errorbar([0], np.mean(npe_av_dists), yerr=np.std(npe_av_dists), fmt='--s', color=col_npe, label=\"NPE\", lw=1, alpha=0.7)\n",
    "    ax.axhline(np.mean(npe_av_dists), color=col_npe, ls='--', alpha=0.2, lw=1)\n",
    "\n",
    "    ax.set_xticks([0, 1, 2, 3])\n",
    "    ax.set_xlim([-0.5, 3.5])\n",
    "    ax.set_xticklabels([\"NPE\", \"GBI\\n25\", \"GBI\\n50\", \"GBI\\n100\"])\n",
    "    ax.set_ylabel(\"Predictive distance\")\n",
    "    ax.set_yticks([0, 0.1, 0.2, 0.3, 0.4])\n",
    "    ax.set_ylim([0, 0.4])\n",
    "    plt.savefig(f\"../svg/panel_e_appendix5.svg\")"
   ]
  },
  {
   "cell_type": "markdown",
   "id": "dd4dd80b",
   "metadata": {},
   "source": [
    "### Assemble figure"
   ]
  },
  {
   "cell_type": "code",
   "execution_count": 22,
   "id": "bb892c96",
   "metadata": {},
   "outputs": [],
   "source": [
    "import time\n",
    "import IPython.display as IPd\n",
    "from svgutils.compose import *"
   ]
  },
  {
   "cell_type": "code",
   "execution_count": 25,
   "id": "42bc7c18",
   "metadata": {},
   "outputs": [
    {
     "data": {
      "text/html": [
       "<img src=\"../fig/fig6_appendix6.svg\" / >"
      ],
      "text/plain": [
       "<IPython.core.display.HTML object>"
      ]
     },
     "metadata": {},
     "output_type": "display_data"
    }
   ],
   "source": [
    "def svg(img):\n",
    "    IPd.display(IPd.HTML('<img src=\"{}\" / >'.format(img, time.time())))\n",
    "\n",
    "# > Inkscape pixel is 1/90 of an inch, other software usually uses 1/72.\n",
    "# > http://www.inkscapeforum.com/viewtopic.php?f=6&t=5964\n",
    "svg_scale = 1.25  # set this to 1.25 for Inkscape, 1.0 otherwise\n",
    "\n",
    "# Panel letters in Helvetica Neue, 12pt, Medium\n",
    "kwargs_text = {'size': '10pt', 'font': 'Arial', 'weight': '800'}\n",
    "kwargs_textstd = {'size': '6pt', 'font': 'Arial'}\n",
    "\n",
    "f = Figure(\"12.7cm\", \"6.1cm\",\n",
    "    \n",
    "    Panel(\n",
    "          SVG(f\"../svg/panel_a.svg\").scale(svg_scale),\n",
    "          Text(\"a\", -5, 13.0, **kwargs_text),\n",
    "          Text(\"Observations\", 68, 13.0, **kwargs_textstd),\n",
    "    ).move(10, 0),\n",
    "    \n",
    "    Panel(\n",
    "          SVG(f\"../svg/panel_c.svg\").scale(svg_scale),\n",
    "          Text(\"c\", -5, 13.0, **kwargs_text),\n",
    "    ).move(220, 0),\n",
    "           \n",
    "    Panel(\n",
    "          SVG(f\"../svg/panel_d2.svg\").scale(svg_scale),\n",
    "          Text(\"b\", -5, 4.0, **kwargs_text),\n",
    "          Text(\"NPE (1M sims) predictives\", 46, 4.0, **kwargs_textstd),\n",
    "    ).move(10, 60),\n",
    "    \n",
    "    Panel(\n",
    "          SVG(f\"../svg/panel_e.svg\").scale(svg_scale),\n",
    "          Text(\"d\", -6, 15.0, **kwargs_text),\n",
    "    ).move(375, -2),\n",
    ")\n",
    "\n",
    "!mkdir -p fig\n",
    "f.save(\"../fig/fig6_appendix6.svg\")\n",
    "svg(\"../fig/fig6_appendix6.svg\")"
   ]
  },
  {
   "cell_type": "code",
   "execution_count": null,
   "id": "cc95b353",
   "metadata": {},
   "outputs": [],
   "source": []
  },
  {
   "cell_type": "code",
   "execution_count": null,
   "id": "0f987933",
   "metadata": {},
   "outputs": [],
   "source": []
  }
 ],
 "metadata": {
  "kernelspec": {
   "display_name": "Python 3 (ipykernel)",
   "language": "python",
   "name": "python3"
  },
  "language_info": {
   "codemirror_mode": {
    "name": "ipython",
    "version": 3
   },
   "file_extension": ".py",
   "mimetype": "text/x-python",
   "name": "python",
   "nbconvert_exporter": "python",
   "pygments_lexer": "ipython3",
   "version": "3.8.13"
  }
 },
 "nbformat": 4,
 "nbformat_minor": 5
}
