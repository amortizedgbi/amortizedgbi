{
 "cells": [
  {
   "cell_type": "code",
   "execution_count": 36,
   "id": "e8add494",
   "metadata": {},
   "outputs": [
    {
     "name": "stdout",
     "output_type": "stream",
     "text": [
      "The autoreload extension is already loaded. To reload it, use:\n",
      "  %reload_ext autoreload\n"
     ]
    }
   ],
   "source": [
    "%load_ext autoreload\n",
    "%autoreload 2"
   ]
  },
  {
   "cell_type": "code",
   "execution_count": 37,
   "id": "e097917f",
   "metadata": {},
   "outputs": [],
   "source": [
    "import time\n",
    "import pickle\n",
    "import matplotlib as mpl\n",
    "import matplotlib.pyplot as plt\n",
    "import numpy as np\n",
    "import torch\n",
    "from torch import float32, zeros, ones, eye, as_tensor, tensor\n",
    "\n",
    "from sbi.analysis import pairplot\n",
    "\n",
    "from gbi.GBI import GBInference\n",
    "from gbi.hh.train_gbi import MaeDistZ\n",
    "import gbi.hh.utils as utils\n",
    "from gbi.hh.HodgkinHuxley import HodgkinHuxley\n",
    "from gbi.hh.HodgkinHuxleyStatsMoments import HodgkinHuxleyStatsMoments"
   ]
  },
  {
   "cell_type": "markdown",
   "id": "b4276652",
   "metadata": {},
   "source": [
    "### Load saved data with 100k simulations, for synthetic observations"
   ]
  },
  {
   "cell_type": "code",
   "execution_count": 38,
   "id": "9b167ab0",
   "metadata": {},
   "outputs": [],
   "source": [
    "path = \"/home/anonymizeduser/Documents/neuralgbi/results/hh_allen\""
   ]
  },
  {
   "cell_type": "code",
   "execution_count": 59,
   "id": "d4c92c46",
   "metadata": {},
   "outputs": [],
   "source": [
    "with open(f\"{path}/gbi_pred_m/1/01_prior_theta.pkl\", \"rb\") as handle:\n",
    "    prior_theta = pickle.load(handle)\n",
    "with open(f\"{path}/gbi_pred_m/1/01_prior_pred.pkl\", \"rb\") as handle:\n",
    "    prior_x = pickle.load(handle)\n",
    "\n",
    "with open(f\"{path}/gbi_inference/inference_gbi.pkl\", \"rb\") as handle:\n",
    "    inference_gbi = pickle.load(handle)\n",
    "\n",
    "with open(f\"{path}/gbi_pred_m/1/02_posterior_samples_gbi_allen.pkl\", \"rb\") as handle:\n",
    "    gbi_posterior_theta = pickle.load(handle)\n",
    "with open(f\"{path}/gbi_pred_m/1/03_posterior_predictive_stats_gbi.pkl\", \"rb\") as handle:\n",
    "    gbi_posterior_x = pickle.load(handle)\n",
    "with open(f\"{path}/gbi_pred_m/1/03_posterior_predictive_traces_gbi.pkl\", \"rb\") as handle:\n",
    "    gbi_posterior_traces = pickle.load(handle)\n",
    "\n",
    "with open(f\"{path}/npe_pred_m/1_synthetic_100000/04_npe_theta.pkl\", \"rb\") as handle:\n",
    "    npe_posterior_theta = pickle.load(handle)\n",
    "with open(f\"{path}/npe_pred_m/1_synthetic_100000/04_npe_stats.pkl\", \"rb\") as handle:\n",
    "    npe_posterior_x = pickle.load(handle)\n",
    "with open(f\"{path}/npe_pred_m/1_synthetic_100000/04_npe_traces.pkl\", \"rb\") as handle:\n",
    "    npe_posterior_traces = pickle.load(handle)\n",
    "    \n",
    "with open(f\"{path}/npe_pred_m/1_synthetic_100000/04_npe_theta.pkl\", \"rb\") as handle:\n",
    "    npe_posterior_theta = pickle.load(handle)\n",
    "with open(f\"{path}/npe_pred_m/1_synthetic_100000/04_npe_stats.pkl\", \"rb\") as handle:\n",
    "    npe_posterior_x = pickle.load(handle)\n",
    "with open(f\"{path}/npe_pred_m/1_synthetic_100000/04_npe_traces.pkl\", \"rb\") as handle:\n",
    "    npe_posterior_traces = pickle.load(handle)\n",
    "    \n",
    "# Where the synthetic data was entirely prior-sampled.\n",
    "with open(f\"{path}/npe_pred_m/2_synthetic_prior_100000/04_npe_theta.pkl\", \"rb\") as handle:\n",
    "    npe_posterior_prior_theta = pickle.load(handle)\n",
    "with open(f\"{path}/npe_pred_m/2_synthetic_prior_100000/04_npe_stats.pkl\", \"rb\") as handle:\n",
    "    npe_posterior_prior_x = pickle.load(handle)\n",
    "with open(f\"{path}/npe_pred_m/2_synthetic_prior_100000/04_npe_traces.pkl\", \"rb\") as handle:\n",
    "    npe_posterior_prior_traces = pickle.load(handle)"
   ]
  },
  {
   "cell_type": "markdown",
   "id": "639cc4f0",
   "metadata": {},
   "source": [
    "### Generate simulator, prior, x_o"
   ]
  },
  {
   "cell_type": "code",
   "execution_count": 41,
   "id": "524fd0af",
   "metadata": {},
   "outputs": [],
   "source": [
    "seed = 1\n",
    "n_xcorr = 0\n",
    "n_mom = 4\n",
    "n_summary = 7"
   ]
  },
  {
   "cell_type": "code",
   "execution_count": 42,
   "id": "3ab84467",
   "metadata": {},
   "outputs": [],
   "source": [
    "true_params, labels_params = utils.obs_params(reduced_model=False)\n",
    "\n",
    "list_cells_AllenDB = [518290966, 57, 0.0234 / 126]\n",
    "\n",
    "ephys_cell = list_cells_AllenDB[0]\n",
    "sweep_number = list_cells_AllenDB[1]\n",
    "A_soma = list_cells_AllenDB[2]\n",
    "junction_potential = -14\n",
    "\n",
    "obs = utils.allen_obs_data(\n",
    "    ephys_cell=ephys_cell, sweep_number=sweep_number, A_soma=A_soma\n",
    ")\n",
    "obs[\"data\"] = obs[\"data\"] + junction_potential\n",
    "I = obs[\"I\"]\n",
    "dt = obs[\"dt\"]\n",
    "t_on = obs[\"t_on\"]\n",
    "t_off = obs[\"t_off\"]\n",
    "\n",
    "sim = HodgkinHuxley(\n",
    "    I, dt, V0=obs[\"data\"][0], reduced_model=False, cython=True, prior_log=False\n",
    ")\n",
    "stats = HodgkinHuxleyStatsMoments(\n",
    "    t_on=t_on, t_off=t_off, n_xcorr=n_xcorr, n_mom=n_mom, n_summary=n_summary\n",
    ")"
   ]
  },
  {
   "cell_type": "code",
   "execution_count": 55,
   "id": "6fd94bfa",
   "metadata": {},
   "outputs": [],
   "source": [
    "with open(f\"{path}/synthetic_xo/xo.pkl\", \"rb\") as handle:\n",
    "    obs_stats_ls = pickle.load(handle)\n",
    "with open(f\"{path}/synthetic_xo/traces.pkl\", \"rb\") as handle:\n",
    "    all_obs = pickle.load(handle)\n",
    "    \n",
    "# Prior predictives.\n",
    "with open(f\"{path}/synthetic_xo/prior_pred_xo.pkl\", \"rb\") as handle:\n",
    "    obs_stats_ls_prior = pickle.load(handle)\n",
    "with open(f\"{path}/synthetic_xo/prior_pred_traces.pkl\", \"rb\") as handle:\n",
    "    all_obs_prior = pickle.load(handle)"
   ]
  },
  {
   "cell_type": "code",
   "execution_count": 44,
   "id": "5aaf44aa",
   "metadata": {},
   "outputs": [],
   "source": [
    "prior = utils.prior(\n",
    "    true_params=true_params,\n",
    "    prior_uniform=True,\n",
    "    prior_extent=True,\n",
    "    prior_log=False,\n",
    "    seed=0,\n",
    ")\n",
    "limits = torch.stack(\n",
    "    [\n",
    "        prior.support.base_constraint.lower_bound,\n",
    "        prior.support.base_constraint.upper_bound,\n",
    "    ]\n",
    ").T\n",
    "time_vec_obs = np.linspace(np.min(sim.t), np.max(sim.t), len(all_obs[0][\"data\"]))"
   ]
  },
  {
   "cell_type": "markdown",
   "id": "204c4bc2",
   "metadata": {},
   "source": [
    "### Panel A"
   ]
  },
  {
   "cell_type": "code",
   "execution_count": 45,
   "id": "04b705bf",
   "metadata": {},
   "outputs": [
    {
     "data": {
      "image/png": "[encoded data removed]",
      "text/plain": [
       "<Figure size 240x70 with 3 Axes>"
      ]
     },
     "metadata": {},
     "output_type": "display_data"
    }
   ],
   "source": [
    "with mpl.rc_context(fname=\"../../../.matplotlibrc\"):\n",
    "    fig, ax = plt.subplots(1, 3, figsize=(2.4, 0.7))\n",
    "        \n",
    "    for i in range(3):\n",
    "        xo  = all_obs[i]\n",
    "        _ = ax[i].plot(time_vec_obs, xo[\"data\"], c=\"k\")\n",
    "\n",
    "        _ = ax[i].set_xlabel(\"\")\n",
    "        _ = ax[i].set_ylabel(\"\")\n",
    "        _ = ax[i].set_ylim([-100, 60])\n",
    "        _ = ax[i].spines[\"left\"].set_visible(False)\n",
    "        _ = ax[i].spines[\"bottom\"].set_visible(False)\n",
    "        _ = ax[i].set_xticks([])\n",
    "        _ = ax[i].set_yticks([])\n",
    "    plt.savefig(\"../svg/panel_a.svg\")\n",
    "    plt.show()"
   ]
  },
  {
   "cell_type": "markdown",
   "id": "ca043348",
   "metadata": {},
   "source": [
    "### Panel B"
   ]
  },
  {
   "cell_type": "code",
   "execution_count": 46,
   "id": "4e214548",
   "metadata": {},
   "outputs": [],
   "source": [
    "cols = [\n",
    "    \"#a6cee3\",\n",
    "    \"#1f78b4\",\n",
    "    \"#b2df8a\",\n",
    "    \"#33a02c\",\n",
    "    \"#fb9a99\",\n",
    "]"
   ]
  },
  {
   "cell_type": "code",
   "execution_count": 47,
   "id": "f81c7f29",
   "metadata": {},
   "outputs": [],
   "source": [
    "pred_dists = np.asarray([inference_gbi.predict_distance(prior_theta, x_target_val).detach().numpy() for x_target_val in x_target_vals])\n",
    "true_dists = np.asarray([inference_gbi.distance_func(prior_x, x_target_val).numpy() for x_target_val in x_target_vals])"
   ]
  },
  {
   "cell_type": "code",
   "execution_count": 48,
   "id": "919834e6",
   "metadata": {},
   "outputs": [
    {
     "data": {
      "image/png": "[encoded data removed]",
      "text/plain": [
       "<Figure size 90x90 with 1 Axes>"
      ]
     },
     "metadata": {},
     "output_type": "display_data"
    }
   ],
   "source": [
    "with mpl.rc_context(fname=\"../../../.matplotlibrc\"):\n",
    "    fig, ax = plt.subplots(1, 1, figsize=(0.9, 0.9))\n",
    "\n",
    "    x_target_vals = torch.as_tensor(obs_stats_ls, dtype=torch.float32)[:5]\n",
    "\n",
    "    _ = ax.plot([0, 2.5], [0, 2.5], c=\"grey\", alpha=0.5)\n",
    "    for i in range(5):\n",
    "        t = true_dists[i]\n",
    "        p = pred_dists[i]\n",
    "        _ = ax.scatter(t, p, c=cols[i], alpha=.3)\n",
    "        ax.set_xticks([0, 2.5])\n",
    "        ax.set_yticks([0, 2.5])\n",
    "\n",
    "    ax.set_xlim([0, 2.5])\n",
    "    ax.set_ylim([0, 2.5])\n",
    "    ax.set_xlabel(\"True distance\")\n",
    "    ax.set_ylabel(\"Predicted distance\")\n",
    "    \n",
    "    plt.savefig(\"../svg/panel_b.svg\")"
   ]
  },
  {
   "cell_type": "markdown",
   "id": "0d331ea8",
   "metadata": {},
   "source": [
    "### Panel C"
   ]
  },
  {
   "cell_type": "code",
   "execution_count": 49,
   "id": "85128296",
   "metadata": {},
   "outputs": [],
   "source": [
    "labels_plot = [r\"$g_Na$\", r\"$g_K$\", r\"$g_{\\mathrm{leak}}$\", r\"$g_M$\", r\"$t_{max}$\", r\"$-V_T$\", r\"$noise$\", r\"$-E_{\\mathrm{leak}}$\"]"
   ]
  },
  {
   "cell_type": "code",
   "execution_count": 50,
   "id": "31733576",
   "metadata": {},
   "outputs": [
    {
     "name": "stderr",
     "output_type": "stream",
     "text": [
      "/home/anonymizeduser/Documents/neuralgbi/packages/sbi/sbi/analysis/plot.py:390: UserWarning: No contour levels were found within the data range.\n",
      "  plt.contour(\n",
      "/home/anonymizeduser/Documents/neuralgbi/packages/sbi/sbi/analysis/plot.py:390: UserWarning: No contour levels were found within the data range.\n",
      "  plt.contour(\n",
      "/home/anonymizeduser/Documents/neuralgbi/packages/sbi/sbi/analysis/plot.py:390: UserWarning: No contour levels were found within the data range.\n",
      "  plt.contour(\n",
      "/home/anonymizeduser/Documents/neuralgbi/packages/sbi/sbi/analysis/plot.py:390: UserWarning: No contour levels were found within the data range.\n",
      "  plt.contour(\n"
     ]
    },
    {
     "data": {
      "image/png": "[encoded data removed]",
      "text/plain": [
       "<Figure size 240x240 with 25 Axes>"
      ]
     },
     "metadata": {},
     "output_type": "display_data"
    }
   ],
   "source": [
    "with mpl.rc_context(fname=\"../../../.matplotlibrc\"):\n",
    "    fig, ax = pairplot(\n",
    "        [\n",
    "            npe_posterior_theta[0], \n",
    "            gbi_posterior_theta[\"beta_25\"][0],\n",
    "            gbi_posterior_theta[\"beta_100\"][0],\n",
    "        ],\n",
    "        limits=limits,\n",
    "        ticks=limits,\n",
    "        upper=\"contour\",\n",
    "        contour_offdiag={\"levels\": [0.68], \"percentile\": True},\n",
    "        figsize=(2.4, 2.4),\n",
    "        diag=\"kde\",\n",
    "        subset=[0, 1, 2, 5, 7],\n",
    "        samples_colors=[\"k\", \"orange\", \"r\"],\n",
    "        labels=labels_plot,\n",
    "    )\n",
    "    plt.savefig(\"../svg/panel_c.svg\")"
   ]
  },
  {
   "cell_type": "markdown",
   "id": "5e7b21ce",
   "metadata": {},
   "source": [
    "### Panel D"
   ]
  },
  {
   "cell_type": "code",
   "execution_count": 51,
   "id": "ed42a079",
   "metadata": {},
   "outputs": [
    {
     "data": {
      "image/png": "[encoded data removed]",
      "text/plain": [
       "<Figure size 240x70 with 3 Axes>"
      ]
     },
     "metadata": {},
     "output_type": "display_data"
    }
   ],
   "source": [
    "with mpl.rc_context(fname=\"../../../.matplotlibrc\"):\n",
    "    fig, ax = plt.subplots(1, 3, figsize=(2.4, 0.7))\n",
    "        \n",
    "    for i in range(3):\n",
    "        predictive = gbi_posterior_traces[\"beta_50\"][i][1]\n",
    "        _ = ax[i].plot(sim.t, predictive[\"data\"], c=\"green\", alpha=0.9)\n",
    "\n",
    "        _ = ax[i].set_xlabel(\"\")\n",
    "        _ = ax[i].set_ylabel(\"\")\n",
    "        _ = ax[i].set_ylim([-100, 60])\n",
    "        _ = ax[i].spines[\"left\"].set_visible(False)\n",
    "        _ = ax[i].spines[\"bottom\"].set_visible(False)\n",
    "        _ = ax[i].set_xticks([])\n",
    "        _ = ax[i].set_yticks([])\n",
    "    plt.savefig(\"../svg/panel_d1.svg\")\n",
    "    plt.show()"
   ]
  },
  {
   "cell_type": "code",
   "execution_count": 52,
   "id": "3d9c0692",
   "metadata": {},
   "outputs": [
    {
     "data": {
      "image/png": "[encoded data removed]",
      "text/plain": [
       "<Figure size 240x70 with 3 Axes>"
      ]
     },
     "metadata": {},
     "output_type": "display_data"
    }
   ],
   "source": [
    "with mpl.rc_context(fname=\"../../../.matplotlibrc\"):\n",
    "    fig, ax = plt.subplots(1, 3, figsize=(2.4, 0.7))\n",
    "        \n",
    "    for i in range(3):\n",
    "        predictive = npe_posterior_traces[i][0]\n",
    "        _ = ax[i].plot(sim.t, predictive[\"data\"], c=\"green\", alpha=0.9)\n",
    "\n",
    "        _ = ax[i].set_xlabel(\"\")\n",
    "        _ = ax[i].set_ylabel(\"\")\n",
    "        _ = ax[i].set_ylim([-100, 60])\n",
    "        _ = ax[i].spines[\"left\"].set_visible(False)\n",
    "        _ = ax[i].spines[\"bottom\"].set_visible(False)\n",
    "        _ = ax[i].set_xticks([])\n",
    "        _ = ax[i].set_yticks([])\n",
    "    plt.savefig(f\"../svg/panel_d2.svg\")\n",
    "    plt.show()"
   ]
  },
  {
   "cell_type": "markdown",
   "id": "f583d835",
   "metadata": {},
   "source": [
    "### Average distance of NPE to prior predictives"
   ]
  },
  {
   "cell_type": "code",
   "execution_count": 66,
   "id": "7b42f5ad",
   "metadata": {},
   "outputs": [
    {
     "name": "stdout",
     "output_type": "stream",
     "text": [
      "npe_av_dists_prior 0.18980032\n"
     ]
    }
   ],
   "source": [
    "npe_av_dists_prior = []\n",
    "for predictives, xo in zip(npe_posterior_prior_x, obs_stats_ls_prior):\n",
    "    dists = inference_gbi.distance_func(predictives.unsqueeze(1), xo)\n",
    "    npe_av_dists_prior.append(torch.mean(dists))\n",
    "print(\"npe_av_dists_prior\", np.mean(npe_av_dists_prior))"
   ]
  },
  {
   "cell_type": "markdown",
   "id": "6122b216",
   "metadata": {},
   "source": [
    "### Panel E"
   ]
  },
  {
   "cell_type": "code",
   "execution_count": 56,
   "id": "e733e110",
   "metadata": {},
   "outputs": [],
   "source": [
    "all_gbi_distances = []\n",
    "for key in gbi_posterior_x.keys():\n",
    "    pred_stats = gbi_posterior_x[key]\n",
    "    gbi_av_dists = []\n",
    "    for predictives, xo in zip(pred_stats, obs_stats_ls):\n",
    "        dists = inference_gbi.distance_func(predictives.unsqueeze(1), xo)\n",
    "        gbi_av_dists.append(torch.mean(dists))\n",
    "    all_gbi_distances.append(gbi_av_dists)"
   ]
  },
  {
   "cell_type": "code",
   "execution_count": 57,
   "id": "04fd615b",
   "metadata": {},
   "outputs": [],
   "source": [
    "npe_av_dists = []\n",
    "for predictives, xo in zip(npe_posterior_x, obs_stats_ls):\n",
    "    dists = inference_gbi.distance_func(predictives.unsqueeze(1), xo)\n",
    "    npe_av_dists.append(torch.mean(dists))"
   ]
  },
  {
   "cell_type": "code",
   "execution_count": 28,
   "id": "b0a868dc",
   "metadata": {},
   "outputs": [
    {
     "data": {
      "image/png": "[encoded data removed]",
      "text/plain": [
       "<Figure size 90x90 with 1 Axes>"
      ]
     },
     "metadata": {},
     "output_type": "display_data"
    }
   ],
   "source": [
    "with mpl.rc_context(fname=\"../../../.matplotlibrc\"):\n",
    "    fig, ax = plt.subplots(1, 1, figsize=(0.9, 0.9))\n",
    "    _ = ax.errorbar([1, 2, 3], [np.mean(dist) for dist in all_gbi_distances], yerr=[np.std(dist) for dist in all_gbi_distances], fmt='--s', color=\"g\",label=\"NPE\", lw=1, alpha=0.7)\n",
    "\n",
    "    ax.errorbar([0], np.mean(npe_av_dists), yerr=np.std(npe_av_dists), fmt='--s', color=\"k\",label=\"NPE\", lw=1, alpha=0.7)\n",
    "    ax.axhline(np.mean(npe_av_dists), color=\"k\", ls='--', alpha=0.2, lw=1)\n",
    "\n",
    "    ax.set_xticks([0, 1, 2, 3])\n",
    "    ax.set_xlim([-0.5, 3.5])\n",
    "    ax.set_xticklabels([\"NPE\", \"GBI\\n25\", \"GBI\\n50\", \"GBI\\n100\"])\n",
    "    ax.set_ylabel(\"Predictive dist\")\n",
    "    ax.set_yticks([0, 0.1, 0.2, 0.3, 0.4])\n",
    "    ax.set_ylim([0, 0.4])\n",
    "    plt.savefig(f\"../svg/panel_e.svg\")"
   ]
  },
  {
   "cell_type": "markdown",
   "id": "7a3adbd5",
   "metadata": {},
   "source": [
    "### Assemble figure"
   ]
  },
  {
   "cell_type": "code",
   "execution_count": 29,
   "id": "011ae436",
   "metadata": {},
   "outputs": [],
   "source": [
    "import time\n",
    "import IPython.display as IPd\n",
    "from svgutils.compose import *"
   ]
  },
  {
   "cell_type": "code",
   "execution_count": 31,
   "id": "6b150564",
   "metadata": {},
   "outputs": [
    {
     "data": {
      "text/html": [
       "<img src=\"../fig/fig6_appendix_synthetic.svg\" / >"
      ],
      "text/plain": [
       "<IPython.core.display.HTML object>"
      ]
     },
     "metadata": {},
     "output_type": "display_data"
    }
   ],
   "source": [
    "def svg(img):\n",
    "    IPd.display(IPd.HTML('<img src=\"{}\" / >'.format(img, time.time())))\n",
    "\n",
    "# > Inkscape pixel is 1/90 of an inch, other software usually uses 1/72.\n",
    "# > http://www.inkscapeforum.com/viewtopic.php?f=6&t=5964\n",
    "svg_scale = 1.25  # set this to 1.25 for Inkscape, 1.0 otherwise\n",
    "\n",
    "# Panel letters in Helvetica Neue, 12pt, Medium\n",
    "kwargs_text = {'size': '12pt', 'font': 'Arial', 'weight': '800'}\n",
    "\n",
    "f = Figure(\"15.2cm\", \"6.1cm\",\n",
    "    \n",
    "    Panel(\n",
    "          SVG(f\"../svg/panel_a.svg\").scale(svg_scale),\n",
    "          Text(\"a\", -5, 15.0, **kwargs_text),\n",
    "    ).move(10, 0),\n",
    "           \n",
    "    Panel(\n",
    "          SVG(f\"../svg/panel_b.svg\").scale(svg_scale),\n",
    "          Text(\"b\", -5, 10.0, **kwargs_text),\n",
    "    ).move(220, 5),\n",
    "    \n",
    "    Panel(\n",
    "          SVG(f\"../svg/panel_c.svg\").scale(svg_scale),\n",
    "          Text(\"c\", -5, 15.0, **kwargs_text),\n",
    "    ).move(350, 0),\n",
    "           \n",
    "    Panel(\n",
    "          SVG(f\"../svg/panel_d1.svg\").scale(svg_scale),\n",
    "          Text(\"d\", -5, 2.0, **kwargs_text),\n",
    "    ).move(10, 90),\n",
    "    Panel(\n",
    "          SVG(f\"../svg/panel_d2.svg\").scale(svg_scale),\n",
    "    ).move(10, 160),\n",
    "    \n",
    "    Panel(\n",
    "          SVG(f\"../svg/panel_e.svg\").scale(svg_scale),\n",
    "          Text(\"e\", -5, 2.0, **kwargs_text),\n",
    "    ).move(220, 120),\n",
    ")\n",
    "\n",
    "!mkdir -p fig\n",
    "f.save(\"../fig/fig6_appendix_synthetic.svg\")\n",
    "svg(\"../fig/fig6_appendix_synthetic.svg\")"
   ]
  },
  {
   "cell_type": "code",
   "execution_count": null,
   "id": "45c72dce",
   "metadata": {},
   "outputs": [],
   "source": []
  }
 ],
 "metadata": {
  "kernelspec": {
   "display_name": "Python 3 (ipykernel)",
   "language": "python",
   "name": "python3"
  },
  "language_info": {
   "codemirror_mode": {
    "name": "ipython",
    "version": 3
   },
   "file_extension": ".py",
   "mimetype": "text/x-python",
   "name": "python",
   "nbconvert_exporter": "python",
   "pygments_lexer": "ipython3",
   "version": "3.8.13"
  }
 },
 "nbformat": 4,
 "nbformat_minor": 5
}
